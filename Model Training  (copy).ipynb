{
 "cells": [
  {
   "cell_type": "code",
   "execution_count": 42,
   "id": "a0562c27",
   "metadata": {},
   "outputs": [],
   "source": [
    "import cv2\n",
    "import numpy as np\n",
    "import os\n",
    "from matplotlib import pyplot as plt\n",
    "import time\n",
    "import mediapipe as mp"
   ]
  },
  {
   "cell_type": "code",
   "execution_count": 43,
   "id": "e6511081",
   "metadata": {},
   "outputs": [],
   "source": [
    "actions = np.array(['hello','i love you','my','Name','thanks','What','Your'])\n",
    "DATA_PATH = os.path.join('MP_Data')\n",
    "sequence_length = 30"
   ]
  },
  {
   "cell_type": "code",
   "execution_count": 44,
   "id": "6bb178cc",
   "metadata": {},
   "outputs": [],
   "source": [
    "from sklearn.model_selection import train_test_split\n",
    "from tensorflow.keras.utils import to_categorical"
   ]
  },
  {
   "cell_type": "code",
   "execution_count": 45,
   "id": "d7d900cc",
   "metadata": {},
   "outputs": [],
   "source": [
    "label_map = {label:num for num, label in enumerate(actions)}"
   ]
  },
  {
   "cell_type": "code",
   "execution_count": 46,
   "id": "b2f8952d",
   "metadata": {},
   "outputs": [],
   "source": [
    "sequences, labels = [], []\n",
    "\n",
    "for action in actions:\n",
    "    for sequence in np.array(os.listdir(os.path.join(DATA_PATH, action))).astype(int):\n",
    "        window = []\n",
    "        for frame_num in range(sequence_length):\n",
    "            res = np.load(os.path.join(DATA_PATH, action, str(sequence), \"{}.npy\".format(frame_num)))\n",
    "            window.append(res)\n",
    "        sequences.append(window)\n",
    "        labels.append(label_map[action])"
   ]
  },
  {
   "cell_type": "code",
   "execution_count": 47,
   "id": "5cd4b325",
   "metadata": {},
   "outputs": [],
   "source": [
    "X = np.array(sequences)"
   ]
  },
  {
   "cell_type": "code",
   "execution_count": 48,
   "id": "1076cb58",
   "metadata": {},
   "outputs": [
    {
     "data": {
      "text/plain": [
       "(210, 30, 1662)"
      ]
     },
     "execution_count": 48,
     "metadata": {},
     "output_type": "execute_result"
    }
   ],
   "source": [
    "np.array(sequences).shape"
   ]
  },
  {
   "cell_type": "code",
   "execution_count": 49,
   "id": "e4082e40",
   "metadata": {},
   "outputs": [],
   "source": [
    "y = to_categorical(labels).astype(int)"
   ]
  },
  {
   "cell_type": "code",
   "execution_count": 50,
   "id": "9afc8aa4",
   "metadata": {},
   "outputs": [],
   "source": [
    "X_train, X_test, y_train, y_test = train_test_split(X, y, test_size=0.05)"
   ]
  },
  {
   "cell_type": "code",
   "execution_count": 51,
   "id": "d0b132b6",
   "metadata": {},
   "outputs": [],
   "source": [
    "from tensorflow.keras.models import Sequential\n",
    "from tensorflow.keras.layers import Conv1D, MaxPooling1D, Flatten, Dense\n",
    "from tensorflow.keras.callbacks import TensorBoard"
   ]
  },
  {
   "cell_type": "code",
   "execution_count": 52,
   "id": "699c3ce0",
   "metadata": {},
   "outputs": [],
   "source": [
    "# log_dir = os.path.join('Logs')\n",
    "# tb_callback = TensorBoard(log_dir=log_dir)\n",
    "# Define log directory\n",
    "log_dir = os.path.join('Logs')\n",
    "\n",
    "# Define TensorBoard callback\n",
    "tb_callback = TensorBoard(log_dir=log_dir)"
   ]
  },
  {
   "cell_type": "code",
   "execution_count": 53,
   "id": "82b7d16a",
   "metadata": {},
   "outputs": [],
   "source": [
    "\n",
    "\n",
    "# Define the CNN model\n",
    "model = Sequential()\n",
    "\n",
    "# Add Convolutional layers\n",
    "model.add(Conv1D(filters=64, kernel_size=3, activation='relu', input_shape=(30, 1662)))\n",
    "model.add(MaxPooling1D(pool_size=2))\n",
    "\n",
    "model.add(Conv1D(filters=128, kernel_size=3, activation='relu'))\n",
    "model.add(MaxPooling1D(pool_size=2))\n",
    "\n",
    "model.add(Conv1D(filters=64, kernel_size=3, activation='relu'))\n",
    "model.add(MaxPooling1D(pool_size=2))\n",
    "\n",
    "# Flatten layer to connect convolutional layers to dense layers\n",
    "model.add(Flatten())\n",
    "\n",
    "# Dense layers\n",
    "model.add(Dense(64, activation='relu'))\n",
    "model.add(Dense(32, activation='relu'))\n",
    "\n",
    "# Output layer\n",
    "model.add(Dense(actions.shape[0], activation='softmax'))\n",
    "\n",
    "# Compile the model\n",
    "model.compile(optimizer='adam', loss='categorical_crossentropy', metrics=['accuracy'])\n",
    "\n",
    "# Define callbacks (if needed)\n",
    "tensorboard = TensorBoard(log_dir='logs')\n",
    "\n",
    "# Train the model\n",
    "# model.fit(X_train, y_train, epochs=..., batch_size=..., callbacks=[tensorboard])\n"
   ]
  },
  {
   "cell_type": "code",
   "execution_count": 54,
   "id": "968e94c8",
   "metadata": {},
   "outputs": [],
   "source": [
    "model.compile(optimizer='Adam', loss='categorical_crossentropy', metrics=['categorical_accuracy'])"
   ]
  },
  {
   "cell_type": "code",
   "execution_count": 55,
   "id": "a1d10e05",
   "metadata": {},
   "outputs": [
    {
     "name": "stdout",
     "output_type": "stream",
     "text": [
      "Epoch 1/100\n",
      "7/7 [==============================] - 2s 30ms/step - loss: 1.9663 - categorical_accuracy: 0.1407\n",
      "Epoch 2/100\n",
      "7/7 [==============================] - 0s 26ms/step - loss: 1.8614 - categorical_accuracy: 0.2513\n",
      "Epoch 3/100\n",
      "7/7 [==============================] - 0s 29ms/step - loss: 1.7448 - categorical_accuracy: 0.3216\n",
      "Epoch 4/100\n",
      "7/7 [==============================] - 0s 33ms/step - loss: 1.5770 - categorical_accuracy: 0.3970\n",
      "Epoch 5/100\n",
      "7/7 [==============================] - 0s 31ms/step - loss: 1.5148 - categorical_accuracy: 0.4271\n",
      "Epoch 6/100\n",
      "7/7 [==============================] - 0s 33ms/step - loss: 1.4805 - categorical_accuracy: 0.3769\n",
      "Epoch 7/100\n",
      "7/7 [==============================] - 0s 32ms/step - loss: 1.4075 - categorical_accuracy: 0.4322\n",
      "Epoch 8/100\n",
      "7/7 [==============================] - 0s 32ms/step - loss: 1.2000 - categorical_accuracy: 0.6030\n",
      "Epoch 9/100\n",
      "7/7 [==============================] - 0s 32ms/step - loss: 1.0847 - categorical_accuracy: 0.6131\n",
      "Epoch 10/100\n",
      "7/7 [==============================] - 0s 30ms/step - loss: 0.9320 - categorical_accuracy: 0.6181\n",
      "Epoch 11/100\n",
      "7/7 [==============================] - 0s 28ms/step - loss: 1.0125 - categorical_accuracy: 0.5377\n",
      "Epoch 12/100\n",
      "7/7 [==============================] - 0s 29ms/step - loss: 0.9890 - categorical_accuracy: 0.5930\n",
      "Epoch 13/100\n",
      "7/7 [==============================] - 0s 27ms/step - loss: 0.8788 - categorical_accuracy: 0.6080\n",
      "Epoch 14/100\n",
      "7/7 [==============================] - 0s 27ms/step - loss: 0.7785 - categorical_accuracy: 0.6633\n",
      "Epoch 15/100\n",
      "7/7 [==============================] - 0s 27ms/step - loss: 0.7725 - categorical_accuracy: 0.6533\n",
      "Epoch 16/100\n",
      "7/7 [==============================] - 0s 34ms/step - loss: 0.7005 - categorical_accuracy: 0.6884\n",
      "Epoch 17/100\n",
      "7/7 [==============================] - 0s 28ms/step - loss: 0.8635 - categorical_accuracy: 0.6633\n",
      "Epoch 18/100\n",
      "7/7 [==============================] - 0s 27ms/step - loss: 0.7344 - categorical_accuracy: 0.6583\n",
      "Epoch 19/100\n",
      "7/7 [==============================] - 0s 28ms/step - loss: 0.6393 - categorical_accuracy: 0.7789\n",
      "Epoch 20/100\n",
      "7/7 [==============================] - 0s 33ms/step - loss: 0.6896 - categorical_accuracy: 0.6884\n",
      "Epoch 21/100\n",
      "7/7 [==============================] - 0s 29ms/step - loss: 0.8001 - categorical_accuracy: 0.7085\n",
      "Epoch 22/100\n",
      "7/7 [==============================] - 0s 29ms/step - loss: 0.7755 - categorical_accuracy: 0.7035\n",
      "Epoch 23/100\n",
      "7/7 [==============================] - 0s 27ms/step - loss: 0.7323 - categorical_accuracy: 0.6884\n",
      "Epoch 24/100\n",
      "7/7 [==============================] - 0s 27ms/step - loss: 0.6392 - categorical_accuracy: 0.7186\n",
      "Epoch 25/100\n",
      "7/7 [==============================] - 0s 28ms/step - loss: 0.5850 - categorical_accuracy: 0.7085\n",
      "Epoch 26/100\n",
      "7/7 [==============================] - 0s 28ms/step - loss: 0.6120 - categorical_accuracy: 0.7186\n",
      "Epoch 27/100\n",
      "7/7 [==============================] - 0s 27ms/step - loss: 0.5324 - categorical_accuracy: 0.7990\n",
      "Epoch 28/100\n",
      "7/7 [==============================] - 0s 33ms/step - loss: 0.5584 - categorical_accuracy: 0.7236\n",
      "Epoch 29/100\n",
      "7/7 [==============================] - 0s 28ms/step - loss: 0.5672 - categorical_accuracy: 0.7739\n",
      "Epoch 30/100\n",
      "7/7 [==============================] - 0s 30ms/step - loss: 0.4981 - categorical_accuracy: 0.7789\n",
      "Epoch 31/100\n",
      "7/7 [==============================] - 0s 29ms/step - loss: 0.4613 - categorical_accuracy: 0.7990\n",
      "Epoch 32/100\n",
      "7/7 [==============================] - 0s 28ms/step - loss: 0.3934 - categorical_accuracy: 0.8543\n",
      "Epoch 33/100\n",
      "7/7 [==============================] - 0s 27ms/step - loss: 0.3514 - categorical_accuracy: 0.8844\n",
      "Epoch 34/100\n",
      "7/7 [==============================] - 0s 29ms/step - loss: 0.2740 - categorical_accuracy: 0.8894\n",
      "Epoch 35/100\n",
      "7/7 [==============================] - 0s 27ms/step - loss: 0.2584 - categorical_accuracy: 0.8995\n",
      "Epoch 36/100\n",
      "7/7 [==============================] - 0s 27ms/step - loss: 0.3470 - categorical_accuracy: 0.8543\n",
      "Epoch 37/100\n",
      "7/7 [==============================] - 0s 29ms/step - loss: 0.2071 - categorical_accuracy: 0.9347\n",
      "Epoch 38/100\n",
      "7/7 [==============================] - 0s 26ms/step - loss: 0.2486 - categorical_accuracy: 0.8894\n",
      "Epoch 39/100\n",
      "7/7 [==============================] - 0s 27ms/step - loss: 0.3127 - categorical_accuracy: 0.8643\n",
      "Epoch 40/100\n",
      "7/7 [==============================] - 0s 34ms/step - loss: 0.4299 - categorical_accuracy: 0.8141\n",
      "Epoch 41/100\n",
      "7/7 [==============================] - 0s 29ms/step - loss: 0.6667 - categorical_accuracy: 0.7839\n",
      "Epoch 42/100\n",
      "7/7 [==============================] - 0s 26ms/step - loss: 0.5597 - categorical_accuracy: 0.7538\n",
      "Epoch 43/100\n",
      "7/7 [==============================] - 0s 25ms/step - loss: 0.3933 - categorical_accuracy: 0.8241\n",
      "Epoch 44/100\n",
      "7/7 [==============================] - 0s 26ms/step - loss: 0.3021 - categorical_accuracy: 0.8945\n",
      "Epoch 45/100\n",
      "7/7 [==============================] - 0s 26ms/step - loss: 0.2335 - categorical_accuracy: 0.8945\n",
      "Epoch 46/100\n",
      "7/7 [==============================] - 0s 26ms/step - loss: 0.1775 - categorical_accuracy: 0.9347\n",
      "Epoch 47/100\n",
      "7/7 [==============================] - 0s 26ms/step - loss: 0.1655 - categorical_accuracy: 0.9397\n",
      "Epoch 48/100\n",
      "7/7 [==============================] - 0s 26ms/step - loss: 0.1582 - categorical_accuracy: 0.9447\n",
      "Epoch 49/100\n",
      "7/7 [==============================] - 0s 26ms/step - loss: 0.1725 - categorical_accuracy: 0.9397\n",
      "Epoch 50/100\n",
      "7/7 [==============================] - 0s 27ms/step - loss: 0.1888 - categorical_accuracy: 0.9095\n",
      "Epoch 51/100\n",
      "7/7 [==============================] - 0s 28ms/step - loss: 0.2299 - categorical_accuracy: 0.9095\n",
      "Epoch 52/100\n",
      "7/7 [==============================] - 0s 34ms/step - loss: 0.2607 - categorical_accuracy: 0.8693\n",
      "Epoch 53/100\n",
      "7/7 [==============================] - 0s 27ms/step - loss: 0.4142 - categorical_accuracy: 0.8392\n",
      "Epoch 54/100\n",
      "7/7 [==============================] - 0s 27ms/step - loss: 0.3837 - categorical_accuracy: 0.8543\n",
      "Epoch 55/100\n",
      "7/7 [==============================] - 0s 31ms/step - loss: 0.2832 - categorical_accuracy: 0.8643\n",
      "Epoch 56/100\n",
      "7/7 [==============================] - 0s 29ms/step - loss: 0.1998 - categorical_accuracy: 0.9196\n",
      "Epoch 57/100\n",
      "7/7 [==============================] - 0s 26ms/step - loss: 0.1634 - categorical_accuracy: 0.9548\n",
      "Epoch 58/100\n",
      "7/7 [==============================] - 0s 27ms/step - loss: 0.1279 - categorical_accuracy: 0.9548\n",
      "Epoch 59/100\n",
      "7/7 [==============================] - 0s 27ms/step - loss: 0.0976 - categorical_accuracy: 0.9698\n",
      "Epoch 60/100\n",
      "7/7 [==============================] - 0s 27ms/step - loss: 0.1021 - categorical_accuracy: 0.9648\n",
      "Epoch 61/100\n",
      "7/7 [==============================] - 0s 31ms/step - loss: 0.3496 - categorical_accuracy: 0.8945\n",
      "Epoch 62/100\n",
      "7/7 [==============================] - 0s 30ms/step - loss: 0.2694 - categorical_accuracy: 0.9045\n",
      "Epoch 63/100\n",
      "7/7 [==============================] - 0s 25ms/step - loss: 0.2357 - categorical_accuracy: 0.9045\n",
      "Epoch 64/100\n",
      "7/7 [==============================] - 0s 30ms/step - loss: 0.1518 - categorical_accuracy: 0.9749\n",
      "Epoch 65/100\n",
      "7/7 [==============================] - 0s 25ms/step - loss: 0.1188 - categorical_accuracy: 0.9749\n",
      "Epoch 66/100\n",
      "7/7 [==============================] - 0s 25ms/step - loss: 0.0931 - categorical_accuracy: 0.9749\n",
      "Epoch 67/100\n",
      "7/7 [==============================] - 0s 25ms/step - loss: 0.0994 - categorical_accuracy: 0.9497\n",
      "Epoch 68/100\n",
      "7/7 [==============================] - 0s 26ms/step - loss: 0.1554 - categorical_accuracy: 0.9447\n",
      "Epoch 69/100\n",
      "7/7 [==============================] - 0s 24ms/step - loss: 0.1177 - categorical_accuracy: 0.9397\n",
      "Epoch 70/100\n",
      "7/7 [==============================] - 0s 26ms/step - loss: 0.0432 - categorical_accuracy: 1.0000\n",
      "Epoch 71/100\n",
      "7/7 [==============================] - 0s 27ms/step - loss: 0.0433 - categorical_accuracy: 0.9950\n",
      "Epoch 72/100\n",
      "7/7 [==============================] - 0s 27ms/step - loss: 0.0660 - categorical_accuracy: 0.9849\n",
      "Epoch 73/100\n",
      "7/7 [==============================] - 0s 27ms/step - loss: 0.0658 - categorical_accuracy: 0.9749\n",
      "Epoch 74/100\n",
      "7/7 [==============================] - 0s 24ms/step - loss: 0.0578 - categorical_accuracy: 0.9849\n",
      "Epoch 75/100\n",
      "7/7 [==============================] - 0s 29ms/step - loss: 0.1237 - categorical_accuracy: 0.9598\n",
      "Epoch 76/100\n",
      "7/7 [==============================] - 0s 25ms/step - loss: 0.1531 - categorical_accuracy: 0.9397\n",
      "Epoch 77/100\n",
      "7/7 [==============================] - 0s 30ms/step - loss: 0.1646 - categorical_accuracy: 0.9347\n",
      "Epoch 78/100\n",
      "7/7 [==============================] - 0s 24ms/step - loss: 0.1857 - categorical_accuracy: 0.9146\n",
      "Epoch 79/100\n",
      "7/7 [==============================] - 0s 24ms/step - loss: 0.0938 - categorical_accuracy: 0.9548\n",
      "Epoch 80/100\n",
      "7/7 [==============================] - 0s 25ms/step - loss: 0.1368 - categorical_accuracy: 0.9698\n",
      "Epoch 81/100\n",
      "7/7 [==============================] - 0s 25ms/step - loss: 0.1065 - categorical_accuracy: 0.9648\n",
      "Epoch 82/100\n",
      "7/7 [==============================] - 0s 26ms/step - loss: 0.0884 - categorical_accuracy: 0.9648\n",
      "Epoch 83/100\n",
      "7/7 [==============================] - 0s 26ms/step - loss: 0.1082 - categorical_accuracy: 0.9598\n",
      "Epoch 84/100\n",
      "7/7 [==============================] - 0s 25ms/step - loss: 0.1389 - categorical_accuracy: 0.9447\n",
      "Epoch 85/100\n",
      "7/7 [==============================] - 0s 25ms/step - loss: 0.1492 - categorical_accuracy: 0.9447\n",
      "Epoch 86/100\n",
      "7/7 [==============================] - 0s 30ms/step - loss: 0.2306 - categorical_accuracy: 0.9196\n",
      "Epoch 87/100\n",
      "7/7 [==============================] - 0s 29ms/step - loss: 0.1343 - categorical_accuracy: 0.9497\n",
      "Epoch 88/100\n",
      "7/7 [==============================] - 0s 27ms/step - loss: 0.1385 - categorical_accuracy: 0.9397\n",
      "Epoch 89/100\n",
      "7/7 [==============================] - 0s 26ms/step - loss: 0.0927 - categorical_accuracy: 0.9598\n",
      "Epoch 90/100\n",
      "7/7 [==============================] - 0s 25ms/step - loss: 0.1472 - categorical_accuracy: 0.9548\n",
      "Epoch 91/100\n",
      "7/7 [==============================] - 0s 26ms/step - loss: 0.0467 - categorical_accuracy: 0.9849\n",
      "Epoch 92/100\n",
      "7/7 [==============================] - 0s 26ms/step - loss: 0.0439 - categorical_accuracy: 0.9799\n",
      "Epoch 93/100\n",
      "7/7 [==============================] - 0s 27ms/step - loss: 0.0325 - categorical_accuracy: 0.9950\n",
      "Epoch 94/100\n",
      "7/7 [==============================] - 0s 27ms/step - loss: 0.0173 - categorical_accuracy: 1.0000\n",
      "Epoch 95/100\n",
      "7/7 [==============================] - 0s 26ms/step - loss: 0.0176 - categorical_accuracy: 1.0000\n",
      "Epoch 96/100\n",
      "7/7 [==============================] - 0s 27ms/step - loss: 0.0124 - categorical_accuracy: 1.0000\n",
      "Epoch 97/100\n",
      "7/7 [==============================] - 0s 29ms/step - loss: 0.0115 - categorical_accuracy: 1.0000\n",
      "Epoch 98/100\n",
      "7/7 [==============================] - 0s 24ms/step - loss: 0.0203 - categorical_accuracy: 0.9950\n",
      "Epoch 99/100\n",
      "7/7 [==============================] - 0s 23ms/step - loss: 0.0186 - categorical_accuracy: 1.0000\n",
      "Epoch 100/100\n",
      "7/7 [==============================] - 0s 24ms/step - loss: 0.0116 - categorical_accuracy: 1.0000\n"
     ]
    },
    {
     "data": {
      "text/plain": [
       "<keras.src.callbacks.History at 0x218f0b87410>"
      ]
     },
     "execution_count": 55,
     "metadata": {},
     "output_type": "execute_result"
    }
   ],
   "source": [
    "model.fit(X_train, y_train, epochs=100, callbacks=[tb_callback])"
   ]
  },
  {
   "cell_type": "code",
   "execution_count": 56,
   "id": "da822771",
   "metadata": {},
   "outputs": [
    {
     "data": {
      "text/plain": [
       "<bound method Model.summary of <keras.src.engine.sequential.Sequential object at 0x00000218F2F1C1D0>>"
      ]
     },
     "execution_count": 56,
     "metadata": {},
     "output_type": "execute_result"
    }
   ],
   "source": [
    "model.summary"
   ]
  },
  {
   "cell_type": "code",
   "execution_count": 57,
   "id": "2350eed9",
   "metadata": {},
   "outputs": [
    {
     "name": "stdout",
     "output_type": "stream",
     "text": [
      "1/1 [==============================] - 0s 325ms/step\n"
     ]
    }
   ],
   "source": [
    "res = model.predict(X_test)"
   ]
  },
  {
   "cell_type": "code",
   "execution_count": 58,
   "id": "9532432c",
   "metadata": {},
   "outputs": [
    {
     "name": "stdout",
     "output_type": "stream",
     "text": [
      "1/1 [==============================] - 0s 28ms/step\n"
     ]
    },
    {
     "data": {
      "text/plain": [
       "array([[2.99286773e-09, 2.85544388e-09, 2.83550471e-03, 9.96767879e-01,\n",
       "        2.05916137e-08, 3.96555493e-04, 5.92163865e-08],\n",
       "       [9.31604445e-01, 3.41869932e-09, 1.53949955e-07, 1.52149387e-11,\n",
       "        6.83003590e-02, 5.58127886e-06, 8.94562763e-05],\n",
       "       [5.50288532e-04, 3.29539986e-08, 5.37611631e-05, 2.32333791e-10,\n",
       "        9.99382257e-01, 1.06296102e-05, 2.95315817e-06],\n",
       "       [1.71615809e-01, 1.08168294e-07, 5.48722119e-06, 2.11063125e-10,\n",
       "        8.28336775e-01, 1.85892659e-05, 2.32092771e-05],\n",
       "       [9.99969482e-01, 4.76548627e-11, 4.98013714e-11, 1.18746777e-12,\n",
       "        2.32051389e-05, 1.02624771e-08, 7.27202132e-06],\n",
       "       [2.77740401e-05, 3.78429961e-11, 1.16380033e-06, 2.61856359e-04,\n",
       "        1.01320587e-07, 9.99701083e-01, 7.98983547e-06],\n",
       "       [1.08270690e-08, 1.10461633e-10, 6.14786728e-08, 4.10196699e-05,\n",
       "        1.05833932e-10, 9.99958634e-01, 2.42395089e-07],\n",
       "       [1.54505699e-06, 1.25786802e-02, 4.65781852e-07, 1.87096632e-07,\n",
       "        1.40845886e-08, 2.39987145e-04, 9.87179160e-01],\n",
       "       [9.99423981e-01, 4.13790033e-08, 1.17516317e-08, 1.87563756e-10,\n",
       "        5.59841457e-04, 6.55784561e-07, 1.54908776e-05],\n",
       "       [9.99999166e-01, 3.26679974e-14, 2.22189498e-14, 3.98618039e-17,\n",
       "        8.19497131e-07, 1.57468153e-11, 5.01029511e-08],\n",
       "       [3.59353289e-04, 3.02583558e-08, 6.01349966e-05, 2.44062187e-10,\n",
       "        9.99561608e-01, 1.44243349e-05, 4.45198475e-06]], dtype=float32)"
      ]
     },
     "execution_count": 58,
     "metadata": {},
     "output_type": "execute_result"
    }
   ],
   "source": [
    "model.predict(X_test)"
   ]
  },
  {
   "cell_type": "code",
   "execution_count": 59,
   "id": "44ae5537",
   "metadata": {},
   "outputs": [
    {
     "data": {
      "text/plain": [
       "'thanks'"
      ]
     },
     "execution_count": 59,
     "metadata": {},
     "output_type": "execute_result"
    }
   ],
   "source": [
    "actions[np.argmax(res[3])]"
   ]
  },
  {
   "cell_type": "code",
   "execution_count": 60,
   "id": "13034448",
   "metadata": {},
   "outputs": [
    {
     "data": {
      "text/plain": [
       "0.99999994"
      ]
     },
     "execution_count": 60,
     "metadata": {},
     "output_type": "execute_result"
    }
   ],
   "source": [
    "np.sum(res[2])"
   ]
  },
  {
   "cell_type": "code",
   "execution_count": 61,
   "id": "1b5310db",
   "metadata": {},
   "outputs": [
    {
     "data": {
      "text/plain": [
       "'thanks'"
      ]
     },
     "execution_count": 61,
     "metadata": {},
     "output_type": "execute_result"
    }
   ],
   "source": [
    "actions[np.argmax(y_test[2])]"
   ]
  },
  {
   "cell_type": "code",
   "execution_count": 62,
   "id": "b364276d",
   "metadata": {},
   "outputs": [
    {
     "data": {
      "text/plain": [
       "array(['hello', 'hello', 'hello', 'hello', 'i love you', 'hello', 'hello'],\n",
       "      dtype='<U10')"
      ]
     },
     "execution_count": 62,
     "metadata": {},
     "output_type": "execute_result"
    }
   ],
   "source": [
    "actions[y_test[2]]"
   ]
  },
  {
   "cell_type": "code",
   "execution_count": 63,
   "id": "3deeea7c",
   "metadata": {},
   "outputs": [
    {
     "data": {
      "text/plain": [
       "'thanks'"
      ]
     },
     "execution_count": 63,
     "metadata": {},
     "output_type": "execute_result"
    }
   ],
   "source": [
    "actions[np.argmax(y_test[2])]"
   ]
  },
  {
   "cell_type": "code",
   "execution_count": 64,
   "id": "429adbfb",
   "metadata": {},
   "outputs": [],
   "source": [
    "from sklearn.metrics import multilabel_confusion_matrix, accuracy_score"
   ]
  },
  {
   "cell_type": "code",
   "execution_count": 65,
   "id": "743105f3",
   "metadata": {},
   "outputs": [
    {
     "name": "stdout",
     "output_type": "stream",
     "text": [
      "1/1 [==============================] - 0s 27ms/step\n"
     ]
    }
   ],
   "source": [
    "yhat = model.predict(X_test)"
   ]
  },
  {
   "cell_type": "code",
   "execution_count": 66,
   "id": "34c6136b",
   "metadata": {},
   "outputs": [
    {
     "data": {
      "text/plain": [
       "0.8181818181818182"
      ]
     },
     "execution_count": 66,
     "metadata": {},
     "output_type": "execute_result"
    }
   ],
   "source": [
    "ytrue = np.argmax(y_test, axis=1).tolist()\n",
    "yhat = np.argmax(yhat, axis=1).tolist()\n",
    "multilabel_confusion_matrix(ytrue, yhat)\n",
    "accuracy_score(ytrue, yhat)"
   ]
  },
  {
   "cell_type": "code",
   "execution_count": 68,
   "id": "a6123517",
   "metadata": {},
   "outputs": [],
   "source": [
    "model.save('action6.h5')"
   ]
  },
  {
   "cell_type": "code",
   "execution_count": 83,
   "id": "59caf2b0",
   "metadata": {},
   "outputs": [
    {
     "ename": "NameError",
     "evalue": "name 'model' is not defined",
     "output_type": "error",
     "traceback": [
      "\u001b[0;31m---------------------------------------------------------------------------\u001b[0m",
      "\u001b[0;31mNameError\u001b[0m                                 Traceback (most recent call last)",
      "\u001b[0;32m/tmp/ipykernel_1308966/3682394117.py\u001b[0m in \u001b[0;36m<module>\u001b[0;34m\u001b[0m\n\u001b[0;32m----> 1\u001b[0;31m \u001b[0;32mdel\u001b[0m \u001b[0mmodel\u001b[0m\u001b[0;34m\u001b[0m\u001b[0;34m\u001b[0m\u001b[0m\n\u001b[0m",
      "\u001b[0;31mNameError\u001b[0m: name 'model' is not defined"
     ]
    }
   ],
   "source": [
    "del model"
   ]
  },
  {
   "cell_type": "code",
   "execution_count": null,
   "id": "094a8d48",
   "metadata": {},
   "outputs": [],
   "source": []
  }
 ],
 "metadata": {
  "kernelspec": {
   "display_name": "Python 3 (ipykernel)",
   "language": "python",
   "name": "python3"
  },
  "language_info": {
   "codemirror_mode": {
    "name": "ipython",
    "version": 3
   },
   "file_extension": ".py",
   "mimetype": "text/x-python",
   "name": "python",
   "nbconvert_exporter": "python",
   "pygments_lexer": "ipython3",
   "version": "3.11.3"
  }
 },
 "nbformat": 4,
 "nbformat_minor": 5
}
